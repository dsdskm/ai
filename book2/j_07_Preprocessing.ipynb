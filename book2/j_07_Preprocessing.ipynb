{
 "cells": [
  {
   "cell_type": "markdown",
   "metadata": {},
   "source": [
    "# 데이터 전처리\n",
    "\n",
    "\n",
    "- 데이터를 분석에 사용할 때 성능이 더 좋게 나오도록 데이터를 수정하거나 형태를 변형하는 작업\n",
    "- data preprocessing\n",
    "\n",
    "<img src=\"https://raw.githubusercontent.com/data-labs/image/main/%E1%84%89%E1%85%B3%E1%84%8F%E1%85%B3%E1%84%85%E1%85%B5%E1%86%AB%E1%84%89%E1%85%A3%E1%86%BA%202021-01-07%20%E1%84%8B%E1%85%A9%E1%84%92%E1%85%AE%204.33.49.png?raw=1\" width=500  align='left'>  \n"
   ]
  },
  {
   "cell_type": "markdown",
   "metadata": {},
   "source": [
    "\n",
    "## 데이터 전처리 종류\n",
    "\n",
    "- 데이터 클리닝 - 결측치 처리, 틀린값 처리\n",
    "- 이상치 처리 - 이상치 탐지 및 제거\n",
    "- 데이터 변환 - 로그 변환, 카테고리 인코딩 등\n",
    "- 스케일링 - 여러 변수 값의 범위를 동등한 조건으로 맞추는 것\n",
    "  - 표준 스케일링, min-max 스케일링"
   ]
  },
  {
   "cell_type": "markdown",
   "metadata": {},
   "source": [
    "# import"
   ]
  },
  {
   "cell_type": "code",
   "execution_count": 18,
   "metadata": {
    "colab": {},
    "colab_type": "code",
    "id": "jYVCMTwISi4P"
   },
   "outputs": [],
   "source": [
    "import numpy as np\n",
    "import pandas as pd\n",
    "import matplotlib.pyplot as plt\n",
    "from sklearn.preprocessing import StandardScaler\n",
    "\n",
    "%config InlineBackend.figure_format = 'retina'"
   ]
  },
  {
   "cell_type": "markdown",
   "metadata": {},
   "source": [
    "# 데이터 생성\n",
    "- 임의의 키, 몸무게 데이터 생성\n",
    "- 평균 170cm, 65kg, 표준편차 4cm, 5kg"
   ]
  },
  {
   "cell_type": "code",
   "execution_count": 19,
   "metadata": {
    "colab": {},
    "colab_type": "code",
    "id": "Eb4toqHpSi4Y"
   },
   "outputs": [
    {
     "data": {
      "text/html": [
       "<div>\n",
       "<style scoped>\n",
       "    .dataframe tbody tr th:only-of-type {\n",
       "        vertical-align: middle;\n",
       "    }\n",
       "\n",
       "    .dataframe tbody tr th {\n",
       "        vertical-align: top;\n",
       "    }\n",
       "\n",
       "    .dataframe thead th {\n",
       "        text-align: right;\n",
       "    }\n",
       "</style>\n",
       "<table border=\"1\" class=\"dataframe\">\n",
       "  <thead>\n",
       "    <tr style=\"text-align: right;\">\n",
       "      <th></th>\n",
       "      <th>height</th>\n",
       "      <th>weight</th>\n",
       "    </tr>\n",
       "  </thead>\n",
       "  <tbody>\n",
       "    <tr>\n",
       "      <th>0</th>\n",
       "      <td>164.84</td>\n",
       "      <td>60.55</td>\n",
       "    </tr>\n",
       "    <tr>\n",
       "      <th>1</th>\n",
       "      <td>170.44</td>\n",
       "      <td>64.25</td>\n",
       "    </tr>\n",
       "    <tr>\n",
       "      <th>2</th>\n",
       "      <td>166.00</td>\n",
       "      <td>67.70</td>\n",
       "    </tr>\n",
       "    <tr>\n",
       "      <th>3</th>\n",
       "      <td>162.32</td>\n",
       "      <td>70.60</td>\n",
       "    </tr>\n",
       "    <tr>\n",
       "      <th>4</th>\n",
       "      <td>172.00</td>\n",
       "      <td>74.40</td>\n",
       "    </tr>\n",
       "  </tbody>\n",
       "</table>\n",
       "</div>"
      ],
      "text/plain": [
       "   height  weight\n",
       "0  164.84   60.55\n",
       "1  170.44   64.25\n",
       "2  166.00   67.70\n",
       "3  162.32   70.60\n",
       "4  172.00   74.40"
      ]
     },
     "execution_count": 19,
     "metadata": {},
     "output_type": "execute_result"
    }
   ],
   "source": [
    "## 100명의 키(170,4), 몸무게(65,5) 데이터 생성 \n",
    "\n",
    "N = 100\n",
    "height = 4*np.random.randn(N).round(2) + 170\n",
    "weight = 5*np.random.randn(N).round(2) + 65\n",
    "df = pd.DataFrame({\"height\": height, \"weight\": weight})\n",
    "df[:5]"
   ]
  },
  {
   "cell_type": "code",
   "execution_count": 20,
   "metadata": {},
   "outputs": [
    {
     "data": {
      "text/html": [
       "<div>\n",
       "<style scoped>\n",
       "    .dataframe tbody tr th:only-of-type {\n",
       "        vertical-align: middle;\n",
       "    }\n",
       "\n",
       "    .dataframe tbody tr th {\n",
       "        vertical-align: top;\n",
       "    }\n",
       "\n",
       "    .dataframe thead th {\n",
       "        text-align: right;\n",
       "    }\n",
       "</style>\n",
       "<table border=\"1\" class=\"dataframe\">\n",
       "  <thead>\n",
       "    <tr style=\"text-align: right;\">\n",
       "      <th></th>\n",
       "      <th>height</th>\n",
       "      <th>weight</th>\n",
       "    </tr>\n",
       "  </thead>\n",
       "  <tbody>\n",
       "    <tr>\n",
       "      <th>0</th>\n",
       "      <td>164.84</td>\n",
       "      <td>60.55</td>\n",
       "    </tr>\n",
       "    <tr>\n",
       "      <th>1</th>\n",
       "      <td>170.44</td>\n",
       "      <td>64.25</td>\n",
       "    </tr>\n",
       "    <tr>\n",
       "      <th>2</th>\n",
       "      <td>NaN</td>\n",
       "      <td>67.70</td>\n",
       "    </tr>\n",
       "    <tr>\n",
       "      <th>3</th>\n",
       "      <td>162.32</td>\n",
       "      <td>NaN</td>\n",
       "    </tr>\n",
       "    <tr>\n",
       "      <th>4</th>\n",
       "      <td>172.00</td>\n",
       "      <td>74.40</td>\n",
       "    </tr>\n",
       "  </tbody>\n",
       "</table>\n",
       "</div>"
      ],
      "text/plain": [
       "   height  weight\n",
       "0  164.84   60.55\n",
       "1  170.44   64.25\n",
       "2     NaN   67.70\n",
       "3  162.32     NaN\n",
       "4  172.00   74.40"
      ]
     },
     "execution_count": 20,
     "metadata": {},
     "output_type": "execute_result"
    }
   ],
   "source": [
    "## 임의로 결측치 삽입\n",
    "# np.nan는 결측치를 나타내는 것임 (not a number)\n",
    "\n",
    "df['height'][2] = np.nan\n",
    "df['weight'][3] = np.nan\n",
    "df[:5]"
   ]
  },
  {
   "cell_type": "markdown",
   "metadata": {},
   "source": [
    "# 데이터 클리닝\n",
    "\n",
    "##  결측치 처리\n",
    "- 결측치를 처리하는 방법은 크게 세 가지가 있다\n",
    "  - 결측치가 포함된 샘플(행)을 버린다\n",
    "  - 결측치를 적절한 값으로 대체한다\n",
    "  - 결측치 처리를 다음 분석 단계로 넘긴다. 즉, 결측치를 그대로 둔다\n",
    " \n",
    "##  틀린값 처리\n",
    "- 틀린값을 처리하는 방법도 결측치를 처리하는 방법과 같이 세가지이다\n",
    "  - 틀린 값이 포함된 샘플(행)을 버린다\n",
    "  - 틀린 값을 적절한 값으로 대체한다\n",
    "  - 틀린값 처리를 다음 분석 단계로 넘긴다. 즉, 틀린값을 그대로 둔다"
   ]
  },
  {
   "cell_type": "markdown",
   "metadata": {},
   "source": [
    "## 결측치 처리 실습\n",
    "\n",
    "- 결측치 확인은 np.isnull() 사용\n",
    "- 결측치 치환은 np.fillna() 사용"
   ]
  },
  {
   "cell_type": "code",
   "execution_count": 21,
   "metadata": {},
   "outputs": [
    {
     "data": {
      "text/plain": [
       "height    1\n",
       "weight    1\n",
       "dtype: int64"
      ]
     },
     "execution_count": 21,
     "metadata": {},
     "output_type": "execute_result"
    }
   ],
   "source": [
    "## 컬럼별 결측치 총 개수 보기\n",
    "\n",
    "df.isnull().sum()"
   ]
  },
  {
   "cell_type": "markdown",
   "metadata": {},
   "source": [
    "### 결측치가 있는 행 삭제"
   ]
  },
  {
   "cell_type": "code",
   "execution_count": 22,
   "metadata": {},
   "outputs": [
    {
     "name": "stdout",
     "output_type": "stream",
     "text": [
      "(98, 2)\n"
     ]
    },
    {
     "data": {
      "text/html": [
       "<div>\n",
       "<style scoped>\n",
       "    .dataframe tbody tr th:only-of-type {\n",
       "        vertical-align: middle;\n",
       "    }\n",
       "\n",
       "    .dataframe tbody tr th {\n",
       "        vertical-align: top;\n",
       "    }\n",
       "\n",
       "    .dataframe thead th {\n",
       "        text-align: right;\n",
       "    }\n",
       "</style>\n",
       "<table border=\"1\" class=\"dataframe\">\n",
       "  <thead>\n",
       "    <tr style=\"text-align: right;\">\n",
       "      <th></th>\n",
       "      <th>height</th>\n",
       "      <th>weight</th>\n",
       "    </tr>\n",
       "  </thead>\n",
       "  <tbody>\n",
       "    <tr>\n",
       "      <th>0</th>\n",
       "      <td>164.84</td>\n",
       "      <td>60.55</td>\n",
       "    </tr>\n",
       "    <tr>\n",
       "      <th>1</th>\n",
       "      <td>170.44</td>\n",
       "      <td>64.25</td>\n",
       "    </tr>\n",
       "    <tr>\n",
       "      <th>4</th>\n",
       "      <td>172.00</td>\n",
       "      <td>74.40</td>\n",
       "    </tr>\n",
       "    <tr>\n",
       "      <th>5</th>\n",
       "      <td>170.96</td>\n",
       "      <td>64.20</td>\n",
       "    </tr>\n",
       "    <tr>\n",
       "      <th>6</th>\n",
       "      <td>171.84</td>\n",
       "      <td>62.80</td>\n",
       "    </tr>\n",
       "  </tbody>\n",
       "</table>\n",
       "</div>"
      ],
      "text/plain": [
       "   height  weight\n",
       "0  164.84   60.55\n",
       "1  170.44   64.25\n",
       "4  172.00   74.40\n",
       "5  170.96   64.20\n",
       "6  171.84   62.80"
      ]
     },
     "execution_count": 22,
     "metadata": {},
     "output_type": "execute_result"
    }
   ],
   "source": [
    "## 결측치가 하나라도 있는 행(샘플) 삭제하기\n",
    "# 아래에서 행이 2 감소한 것을 알 수 있다\n",
    "\n",
    "df2 = df.dropna()\n",
    "print(df2.shape)\n",
    "df2[:5]"
   ]
  },
  {
   "cell_type": "markdown",
   "metadata": {},
   "source": [
    "### 결측치 대체"
   ]
  },
  {
   "cell_type": "code",
   "execution_count": 23,
   "metadata": {},
   "outputs": [
    {
     "name": "stdout",
     "output_type": "stream",
     "text": [
      "(100, 2)\n"
     ]
    },
    {
     "data": {
      "text/html": [
       "<div>\n",
       "<style scoped>\n",
       "    .dataframe tbody tr th:only-of-type {\n",
       "        vertical-align: middle;\n",
       "    }\n",
       "\n",
       "    .dataframe tbody tr th {\n",
       "        vertical-align: top;\n",
       "    }\n",
       "\n",
       "    .dataframe thead th {\n",
       "        text-align: right;\n",
       "    }\n",
       "</style>\n",
       "<table border=\"1\" class=\"dataframe\">\n",
       "  <thead>\n",
       "    <tr style=\"text-align: right;\">\n",
       "      <th></th>\n",
       "      <th>height</th>\n",
       "      <th>weight</th>\n",
       "    </tr>\n",
       "  </thead>\n",
       "  <tbody>\n",
       "    <tr>\n",
       "      <th>0</th>\n",
       "      <td>164.84</td>\n",
       "      <td>60.550000</td>\n",
       "    </tr>\n",
       "    <tr>\n",
       "      <th>1</th>\n",
       "      <td>170.44</td>\n",
       "      <td>64.250000</td>\n",
       "    </tr>\n",
       "    <tr>\n",
       "      <th>2</th>\n",
       "      <td>170.00</td>\n",
       "      <td>67.700000</td>\n",
       "    </tr>\n",
       "    <tr>\n",
       "      <th>3</th>\n",
       "      <td>162.32</td>\n",
       "      <td>65.905556</td>\n",
       "    </tr>\n",
       "    <tr>\n",
       "      <th>4</th>\n",
       "      <td>172.00</td>\n",
       "      <td>74.400000</td>\n",
       "    </tr>\n",
       "  </tbody>\n",
       "</table>\n",
       "</div>"
      ],
      "text/plain": [
       "   height     weight\n",
       "0  164.84  60.550000\n",
       "1  170.44  64.250000\n",
       "2  170.00  67.700000\n",
       "3  162.32  65.905556\n",
       "4  172.00  74.400000"
      ]
     },
     "execution_count": 23,
     "metadata": {},
     "output_type": "execute_result"
    }
   ],
   "source": [
    "## 결측치 대체하기 (키는 170으로 몸무게는 평균치로 대체)\n",
    "# inplace=True는 실행결과를 원본 데이터에 즉시 반영하라는 뜻임\n",
    "\n",
    "df3 = df.copy()\n",
    "df3['height'].fillna(170, inplace=True)\n",
    "df3['weight'].fillna(df3['weight'].mean(), inplace=True)\n",
    "print(df3.shape)\n",
    "df3[:5]"
   ]
  },
  {
   "cell_type": "code",
   "execution_count": 24,
   "metadata": {},
   "outputs": [
    {
     "data": {
      "text/html": [
       "<div>\n",
       "<style scoped>\n",
       "    .dataframe tbody tr th:only-of-type {\n",
       "        vertical-align: middle;\n",
       "    }\n",
       "\n",
       "    .dataframe tbody tr th {\n",
       "        vertical-align: top;\n",
       "    }\n",
       "\n",
       "    .dataframe thead th {\n",
       "        text-align: right;\n",
       "    }\n",
       "</style>\n",
       "<table border=\"1\" class=\"dataframe\">\n",
       "  <thead>\n",
       "    <tr style=\"text-align: right;\">\n",
       "      <th></th>\n",
       "      <th>height</th>\n",
       "      <th>weight</th>\n",
       "    </tr>\n",
       "  </thead>\n",
       "  <tbody>\n",
       "    <tr>\n",
       "      <th>0</th>\n",
       "      <td>164.84</td>\n",
       "      <td>60.55</td>\n",
       "    </tr>\n",
       "    <tr>\n",
       "      <th>1</th>\n",
       "      <td>170.44</td>\n",
       "      <td>64.25</td>\n",
       "    </tr>\n",
       "    <tr>\n",
       "      <th>2</th>\n",
       "      <td>170.44</td>\n",
       "      <td>67.70</td>\n",
       "    </tr>\n",
       "    <tr>\n",
       "      <th>3</th>\n",
       "      <td>162.32</td>\n",
       "      <td>67.70</td>\n",
       "    </tr>\n",
       "    <tr>\n",
       "      <th>4</th>\n",
       "      <td>172.00</td>\n",
       "      <td>74.40</td>\n",
       "    </tr>\n",
       "  </tbody>\n",
       "</table>\n",
       "</div>"
      ],
      "text/plain": [
       "   height  weight\n",
       "0  164.84   60.55\n",
       "1  170.44   64.25\n",
       "2  170.44   67.70\n",
       "3  162.32   67.70\n",
       "4  172.00   74.40"
      ]
     },
     "execution_count": 24,
     "metadata": {},
     "output_type": "execute_result"
    }
   ],
   "source": [
    "## 결측치를 바로 앞의 값으로 대체하는 경우 (forward fill)\n",
    "\n",
    "df.fillna(method=\"ffill\")[:5]"
   ]
  },
  {
   "cell_type": "code",
   "execution_count": 25,
   "metadata": {},
   "outputs": [
    {
     "data": {
      "text/html": [
       "<div>\n",
       "<style scoped>\n",
       "    .dataframe tbody tr th:only-of-type {\n",
       "        vertical-align: middle;\n",
       "    }\n",
       "\n",
       "    .dataframe tbody tr th {\n",
       "        vertical-align: top;\n",
       "    }\n",
       "\n",
       "    .dataframe thead th {\n",
       "        text-align: right;\n",
       "    }\n",
       "</style>\n",
       "<table border=\"1\" class=\"dataframe\">\n",
       "  <thead>\n",
       "    <tr style=\"text-align: right;\">\n",
       "      <th></th>\n",
       "      <th>height</th>\n",
       "      <th>weight</th>\n",
       "    </tr>\n",
       "  </thead>\n",
       "  <tbody>\n",
       "    <tr>\n",
       "      <th>0</th>\n",
       "      <td>164.84</td>\n",
       "      <td>60.55</td>\n",
       "    </tr>\n",
       "    <tr>\n",
       "      <th>1</th>\n",
       "      <td>170.44</td>\n",
       "      <td>64.25</td>\n",
       "    </tr>\n",
       "    <tr>\n",
       "      <th>2</th>\n",
       "      <td>162.32</td>\n",
       "      <td>67.70</td>\n",
       "    </tr>\n",
       "    <tr>\n",
       "      <th>3</th>\n",
       "      <td>162.32</td>\n",
       "      <td>74.40</td>\n",
       "    </tr>\n",
       "    <tr>\n",
       "      <th>4</th>\n",
       "      <td>172.00</td>\n",
       "      <td>74.40</td>\n",
       "    </tr>\n",
       "  </tbody>\n",
       "</table>\n",
       "</div>"
      ],
      "text/plain": [
       "   height  weight\n",
       "0  164.84   60.55\n",
       "1  170.44   64.25\n",
       "2  162.32   67.70\n",
       "3  162.32   74.40\n",
       "4  172.00   74.40"
      ]
     },
     "execution_count": 25,
     "metadata": {},
     "output_type": "execute_result"
    }
   ],
   "source": [
    "## 결측치를 바로 뒤의 값으로 대체하는 경우 (backward fill)\n",
    "\n",
    "df.fillna(method=\"bfill\")[:5]"
   ]
  },
  {
   "cell_type": "markdown",
   "metadata": {},
   "source": [
    "# 이상치 처리\n",
    "- 이상치 처리의 목적은 두가지 이다\n",
    " - 1) 이상치를 제거하여 데이터 분석의 정확도를 높이려는 경우\n",
    " - 2) 이상치를 찾는 것 자체가 목적인 경우 (outlier detection)  \n",
    " \n",
    "- 아래는 모두 같은 상관계수를 같는 데이터 셋이다\n",
    "\n",
    "<img src=\"https://raw.githubusercontent.com/data-labs/image/main/%E1%84%89%E1%85%B3%E1%84%8F%E1%85%B3%E1%84%85%E1%85%B5%E1%86%AB%E1%84%89%E1%85%A3%E1%86%BA%202021-01-03%20%E1%84%8B%E1%85%A9%E1%84%92%E1%85%AE%201.47.02.png?raw=1\" width=400 align='left'>"
   ]
  },
  {
   "cell_type": "markdown",
   "metadata": {},
   "source": [
    "## 이상치 탐지 방법\n",
    "- 단변수의 경우\n",
    "  - 예를 들어 표준편차가 3 이상 떨어진 샘플을 찾는다\n",
    "  - boxplot()을 보면 각 단변수에 대해서 이상치를 파악하기 쉽다\n",
    "- 여러 변수를 동시에 고려해야 하는 경우\n",
    "  - 주성분 분석(PCA)이나 차원 축소를 하여 멀리 떨어져 있는 샘플을 찾는다\n",
    "  - 이상치를 레이블(목적변수)로 지정하고 지도학습을 하여 이상치를 찾는 모델을 만든다"
   ]
  },
  {
   "cell_type": "markdown",
   "metadata": {},
   "source": [
    "- PCA는 샘플을 저차원 특성공간에서 (보통 2차원) 샘플간의 분포를 파악할 때 자주 사용된다 \n",
    "<img src=\"https://github.com/StillWork/image/blob/main/%E1%84%89%E1%85%B3%E1%84%8F%E1%85%B3%E1%84%85%E1%85%B5%E1%86%AB%E1%84%89%E1%85%A3%E1%86%BA%202021-05-30%20%E1%84%8B%E1%85%A9%E1%84%8C%E1%85%A5%E1%86%AB%209.31.41.png?raw=1\" align='left'  width=400>"
   ]
  },
  {
   "cell_type": "markdown",
   "metadata": {},
   "source": [
    "# 데이터 변환\n",
    "\n",
    "- 카테고리 인코딩\n",
    "  - 국적, 성별, 계절 등 카테고리를 구분하는 변수는 일반적으로 원 핫 인코딩으로 표현한다\n",
    "  - 연속형 변수를 카테고리 타입으로 변환하여 사용하기도 한다(10대, 20대 등 연령대, 실력 등급, 옷 사이즈 등)\n",
    "- 로그변환: x 대신 log(x)를 사용\n",
    "- 역수변환: 1/x 사용\n",
    "- 기타 변환\n",
    "  - 다차항(polynomial) 변환: x^2 나 x*y를 사용\n",
    "  - 비율값 사용:  x/y\n",
    "  - 새로운 값 정의: BMI = (몸무게)/(키**2)"
   ]
  },
  {
   "cell_type": "markdown",
   "metadata": {},
   "source": [
    "## 카테고리 인코딩\n",
    "- 카테고리 변수는 대부분 원핫인코딩(one hot encoding)을 하여 0,1 의 숫자로 표현한다\n",
    "- pd.get_dummies()를 사용한다"
   ]
  },
  {
   "cell_type": "code",
   "execution_count": 26,
   "metadata": {},
   "outputs": [
    {
     "data": {
      "text/html": [
       "<div>\n",
       "<style scoped>\n",
       "    .dataframe tbody tr th:only-of-type {\n",
       "        vertical-align: middle;\n",
       "    }\n",
       "\n",
       "    .dataframe tbody tr th {\n",
       "        vertical-align: top;\n",
       "    }\n",
       "\n",
       "    .dataframe thead th {\n",
       "        text-align: right;\n",
       "    }\n",
       "</style>\n",
       "<table border=\"1\" class=\"dataframe\">\n",
       "  <thead>\n",
       "    <tr style=\"text-align: right;\">\n",
       "      <th></th>\n",
       "      <th>height</th>\n",
       "      <th>weight</th>\n",
       "      <th>nation</th>\n",
       "    </tr>\n",
       "  </thead>\n",
       "  <tbody>\n",
       "    <tr>\n",
       "      <th>0</th>\n",
       "      <td>164.84</td>\n",
       "      <td>60.550000</td>\n",
       "      <td>한국</td>\n",
       "    </tr>\n",
       "    <tr>\n",
       "      <th>1</th>\n",
       "      <td>170.44</td>\n",
       "      <td>64.250000</td>\n",
       "      <td>중국</td>\n",
       "    </tr>\n",
       "    <tr>\n",
       "      <th>2</th>\n",
       "      <td>170.00</td>\n",
       "      <td>67.700000</td>\n",
       "      <td>일본</td>\n",
       "    </tr>\n",
       "    <tr>\n",
       "      <th>3</th>\n",
       "      <td>162.32</td>\n",
       "      <td>65.905556</td>\n",
       "      <td>한국</td>\n",
       "    </tr>\n",
       "    <tr>\n",
       "      <th>4</th>\n",
       "      <td>172.00</td>\n",
       "      <td>74.400000</td>\n",
       "      <td>중국</td>\n",
       "    </tr>\n",
       "  </tbody>\n",
       "</table>\n",
       "</div>"
      ],
      "text/plain": [
       "   height     weight nation\n",
       "0  164.84  60.550000     한국\n",
       "1  170.44  64.250000     중국\n",
       "2  170.00  67.700000     일본\n",
       "3  162.32  65.905556     한국\n",
       "4  172.00  74.400000     중국"
      ]
     },
     "execution_count": 26,
     "metadata": {},
     "output_type": "execute_result"
    }
   ],
   "source": [
    "## 카테고리 인코딩을 위한 데이터 생성 (임의로 국적 컬럼을 추가)\n",
    "\n",
    "human = df3[['height','weight']][:5]\n",
    "human['nation'] = ['한국', '중국', '일본', '한국', '중국']\n",
    "human"
   ]
  },
  {
   "cell_type": "code",
   "execution_count": 27,
   "metadata": {},
   "outputs": [
    {
     "data": {
      "text/html": [
       "<div>\n",
       "<style scoped>\n",
       "    .dataframe tbody tr th:only-of-type {\n",
       "        vertical-align: middle;\n",
       "    }\n",
       "\n",
       "    .dataframe tbody tr th {\n",
       "        vertical-align: top;\n",
       "    }\n",
       "\n",
       "    .dataframe thead th {\n",
       "        text-align: right;\n",
       "    }\n",
       "</style>\n",
       "<table border=\"1\" class=\"dataframe\">\n",
       "  <thead>\n",
       "    <tr style=\"text-align: right;\">\n",
       "      <th></th>\n",
       "      <th>height</th>\n",
       "      <th>weight</th>\n",
       "      <th>nation_일본</th>\n",
       "      <th>nation_중국</th>\n",
       "      <th>nation_한국</th>\n",
       "    </tr>\n",
       "  </thead>\n",
       "  <tbody>\n",
       "    <tr>\n",
       "      <th>0</th>\n",
       "      <td>164.84</td>\n",
       "      <td>60.550000</td>\n",
       "      <td>0</td>\n",
       "      <td>0</td>\n",
       "      <td>1</td>\n",
       "    </tr>\n",
       "    <tr>\n",
       "      <th>1</th>\n",
       "      <td>170.44</td>\n",
       "      <td>64.250000</td>\n",
       "      <td>0</td>\n",
       "      <td>1</td>\n",
       "      <td>0</td>\n",
       "    </tr>\n",
       "    <tr>\n",
       "      <th>2</th>\n",
       "      <td>170.00</td>\n",
       "      <td>67.700000</td>\n",
       "      <td>1</td>\n",
       "      <td>0</td>\n",
       "      <td>0</td>\n",
       "    </tr>\n",
       "    <tr>\n",
       "      <th>3</th>\n",
       "      <td>162.32</td>\n",
       "      <td>65.905556</td>\n",
       "      <td>0</td>\n",
       "      <td>0</td>\n",
       "      <td>1</td>\n",
       "    </tr>\n",
       "    <tr>\n",
       "      <th>4</th>\n",
       "      <td>172.00</td>\n",
       "      <td>74.400000</td>\n",
       "      <td>0</td>\n",
       "      <td>1</td>\n",
       "      <td>0</td>\n",
       "    </tr>\n",
       "  </tbody>\n",
       "</table>\n",
       "</div>"
      ],
      "text/plain": [
       "   height     weight  nation_일본  nation_중국  nation_한국\n",
       "0  164.84  60.550000          0          0          1\n",
       "1  170.44  64.250000          0          1          0\n",
       "2  170.00  67.700000          1          0          0\n",
       "3  162.32  65.905556          0          0          1\n",
       "4  172.00  74.400000          0          1          0"
      ]
     },
     "execution_count": 27,
     "metadata": {},
     "output_type": "execute_result"
    }
   ],
   "source": [
    "## humna 데이터프레임에서 nation 컬럼을 원핫 인코딩하는 방법\n",
    "\n",
    "pd.get_dummies(human, ['nation'])"
   ]
  },
  {
   "cell_type": "markdown",
   "metadata": {
    "colab_type": "text",
    "id": "s5EMGUtTSi5T"
   },
   "source": [
    "# 스케일링\n",
    "- 여러 변수 값의 범위가 서로 다른 경우 데이터 분석에서 동일한 비중으로 반영하기 위해서는 동일한 범위를 갖도록 변환해야 한다 (예: 과목 성적 100점 만점으로 환산)\n",
    "- 표준 스케일링을 가장 많이 사용한다 (평균이 0, 표준편차가 1이 되도록 변환)\n",
    "- 값의 최소치와 최대치가 정해진 경우는 min-max 스케링일도 자주 사용된다 (최소치를 0으로, 최대치를 1로)\n",
    "\n",
    "## 표준 스케일링\n",
    "\n",
    "\n",
    "<img src=\"https://raw.githubusercontent.com/data-labs/image/main/%E1%84%89%E1%85%B3%E1%84%8F%E1%85%B3%E1%84%85%E1%85%B5%E1%86%AB%E1%84%89%E1%85%A3%E1%86%BA%202021-01-05%20%E1%84%8B%E1%85%A9%E1%84%92%E1%85%AE%208.52.14.png?raw=1\" width=140  align='left'>"
   ]
  },
  {
   "cell_type": "code",
   "execution_count": 28,
   "metadata": {
    "colab": {},
    "colab_type": "code",
    "id": "J7Agg1zSSi5Y",
    "outputId": "fafab2eb-514c-443d-d8e3-043d51796ce1"
   },
   "outputs": [
    {
     "data": {
      "text/html": [
       "<div>\n",
       "<style scoped>\n",
       "    .dataframe tbody tr th:only-of-type {\n",
       "        vertical-align: middle;\n",
       "    }\n",
       "\n",
       "    .dataframe tbody tr th {\n",
       "        vertical-align: top;\n",
       "    }\n",
       "\n",
       "    .dataframe thead th {\n",
       "        text-align: right;\n",
       "    }\n",
       "</style>\n",
       "<table border=\"1\" class=\"dataframe\">\n",
       "  <thead>\n",
       "    <tr style=\"text-align: right;\">\n",
       "      <th></th>\n",
       "      <th>height</th>\n",
       "      <th>weight</th>\n",
       "      <th>h_sc</th>\n",
       "      <th>w_sc</th>\n",
       "      <th>h_mima</th>\n",
       "      <th>w_mima</th>\n",
       "    </tr>\n",
       "  </thead>\n",
       "  <tbody>\n",
       "    <tr>\n",
       "      <th>0</th>\n",
       "      <td>164.84</td>\n",
       "      <td>60.550000</td>\n",
       "      <td>-1.505220</td>\n",
       "      <td>-1.060538</td>\n",
       "      <td>0.279826</td>\n",
       "      <td>0.270541</td>\n",
       "    </tr>\n",
       "    <tr>\n",
       "      <th>1</th>\n",
       "      <td>170.44</td>\n",
       "      <td>64.250000</td>\n",
       "      <td>0.107104</td>\n",
       "      <td>-0.327843</td>\n",
       "      <td>0.583514</td>\n",
       "      <td>0.418838</td>\n",
       "    </tr>\n",
       "    <tr>\n",
       "      <th>2</th>\n",
       "      <td>170.00</td>\n",
       "      <td>67.700000</td>\n",
       "      <td>-0.019578</td>\n",
       "      <td>0.355346</td>\n",
       "      <td>0.559653</td>\n",
       "      <td>0.557114</td>\n",
       "    </tr>\n",
       "    <tr>\n",
       "      <th>3</th>\n",
       "      <td>162.32</td>\n",
       "      <td>65.905556</td>\n",
       "      <td>-2.230766</td>\n",
       "      <td>0.000000</td>\n",
       "      <td>0.143167</td>\n",
       "      <td>0.485193</td>\n",
       "    </tr>\n",
       "    <tr>\n",
       "      <th>4</th>\n",
       "      <td>172.00</td>\n",
       "      <td>74.400000</td>\n",
       "      <td>0.556252</td>\n",
       "      <td>1.682120</td>\n",
       "      <td>0.668113</td>\n",
       "      <td>0.825651</td>\n",
       "    </tr>\n",
       "  </tbody>\n",
       "</table>\n",
       "</div>"
      ],
      "text/plain": [
       "   height     weight      h_sc      w_sc    h_mima    w_mima\n",
       "0  164.84  60.550000 -1.505220 -1.060538  0.279826  0.270541\n",
       "1  170.44  64.250000  0.107104 -0.327843  0.583514  0.418838\n",
       "2  170.00  67.700000 -0.019578  0.355346  0.559653  0.557114\n",
       "3  162.32  65.905556 -2.230766  0.000000  0.143167  0.485193\n",
       "4  172.00  74.400000  0.556252  1.682120  0.668113  0.825651"
      ]
     },
     "execution_count": 28,
     "metadata": {},
     "output_type": "execute_result"
    }
   ],
   "source": [
    "## 키, 몸무게 데이터를 최소-최대 및 표준 스케일링한 결과 보기\n",
    "\n",
    "from sklearn.preprocessing import StandardScaler, MinMaxScaler\n",
    "scaler = StandardScaler()\n",
    "minmax = MinMaxScaler()\n",
    "\n",
    "df3[['h_sc','w_sc']]=scaler.fit_transform(df3[['height','weight']])\n",
    "df3[['h_mima','w_mima']]=minmax.fit_transform(df3[['height','weight']])\n",
    "df3[:5]"
   ]
  },
  {
   "cell_type": "code",
   "execution_count": 29,
   "metadata": {},
   "outputs": [
    {
     "name": "stdout",
     "output_type": "stream",
     "text": [
      "[170.068       65.90555556] [3.47324632 5.04984598]\n"
     ]
    }
   ],
   "source": [
    "# 표준 스케일링에 사용한 평균치와 표준편차 보기 - 각 컬럼별로 보여준다\n",
    "print(scaler.mean_, scaler.scale_)"
   ]
  },
  {
   "cell_type": "markdown",
   "metadata": {},
   "source": [
    "- 스케일링 이전의 원래 값으로 환원하는 방법\n",
    "- inverse_transform을 사용한다"
   ]
  },
  {
   "cell_type": "code",
   "execution_count": 30,
   "metadata": {},
   "outputs": [
    {
     "data": {
      "text/plain": [
       "array([[164.84      ,  60.55      ],\n",
       "       [170.44      ,  64.25      ],\n",
       "       [170.        ,  67.7       ],\n",
       "       [162.32      ,  65.90555556],\n",
       "       [172.        ,  74.4       ]])"
      ]
     },
     "execution_count": 30,
     "metadata": {},
     "output_type": "execute_result"
    }
   ],
   "source": [
    "## 스케일링 이전의 값으로 환원하기\n",
    "\n",
    "scaler.inverse_transform(df3[[\"h_sc\",\"w_sc\"]])[:5]"
   ]
  },
  {
   "cell_type": "markdown",
   "metadata": {},
   "source": [
    "## (중요) fit_transform()과 transform()을 구분\n",
    "\n",
    "- 최초에 훈련데이터로 스케일링을 할때는 fit_transform()를 사용한다\n",
    "  - fit_transform() 함수는 fit()과 transform() 두개의 함수를 한번에 수행하는 함수이다\n",
    "  -  fit()에서는 평균, 표준편차 등을 계산하는 과정이고 transform()에서 입력 값의 변환작업을 수행한다\n",
    "- 향후 테스트 데이터 등 새로운 데이터를 스케일링할 때는 fit_transform()를 다시 수행하면 안되고, 앞에서 만든 scaler 객체가 제공하는 scaler.transform()을 사용해야 한다\n",
    "  - 앞에서 만든 스케일링 조건(평균, 표준편차, 최대값, 최소값 등)과 동일한 방식으로 스케일링을 수행해야 하므로\n",
    "  - fit_transform()를 실행하면 스케일링 조건(평균, 표준편차, 최대값, 최소값 등)을 새로운 데이터를 가지고 다시 계산한다"
   ]
  },
  {
   "cell_type": "markdown",
   "metadata": {},
   "source": [
    "# (실습) 원핫 인코딩\n",
    "\n",
    "- 위의 human 데이터 프레임에는 국적이 3가지가 있는데 여기에서 5번째 행(샘플)의 국적을 '인도'로 변경하여 총 4가지의 국적을 구분하는 원핫인코딩을 수행하시오"
   ]
  }
 ],
 "metadata": {
  "colab": {
   "collapsed_sections": [],
   "name": "g_06_범주형코딩_스케일링.ipynb",
   "provenance": []
  },
  "kernelspec": {
   "display_name": "Python 3",
   "language": "python",
   "name": "python3"
  },
  "language_info": {
   "codemirror_mode": {
    "name": "ipython",
    "version": 3
   },
   "file_extension": ".py",
   "mimetype": "text/x-python",
   "name": "python",
   "nbconvert_exporter": "python",
   "pygments_lexer": "ipython3",
   "version": "3.8.8"
  },
  "toc": {
   "base_numbering": 1,
   "nav_menu": {},
   "number_sections": false,
   "sideBar": true,
   "skip_h1_title": false,
   "title_cell": "Table of Contents",
   "title_sidebar": "Contents",
   "toc_cell": false,
   "toc_position": {
    "height": "calc(100% - 180px)",
    "left": "10px",
    "top": "150px",
    "width": "165px"
   },
   "toc_section_display": true,
   "toc_window_display": true
  }
 },
 "nbformat": 4,
 "nbformat_minor": 1
}
